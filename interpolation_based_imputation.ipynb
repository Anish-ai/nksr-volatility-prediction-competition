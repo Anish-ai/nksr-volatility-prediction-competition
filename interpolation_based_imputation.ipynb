{
 "cells": [
  {
   "cell_type": "markdown",
   "metadata": {},
   "source": [
    "# Option IV Prediction Notebook"
   ]
  },
  {
   "cell_type": "markdown",
   "metadata": {},
   "source": [
    "## Import Libraries"
   ]
  },
  {
   "cell_type": "code",
   "execution_count": 1,
   "metadata": {},
   "outputs": [],
   "source": [
    "import pandas as pd\n",
    "import numpy as np\n",
    "from sklearn.model_selection import train_test_split\n",
    "import matplotlib.pyplot as plt\n",
    "import seaborn as sns"
   ]
  },
  {
   "cell_type": "markdown",
   "metadata": {},
   "source": [
    "## Load Data"
   ]
  },
  {
   "cell_type": "code",
   "execution_count": 3,
   "metadata": {},
   "outputs": [],
   "source": [
    "train = pd.read_parquet('train_data.parquet')\n",
    "test = pd.read_parquet('test_data.parquet')\n",
    "sample_sub = pd.read_csv('sample_submission.csv')"
   ]
  },
  {
   "cell_type": "markdown",
   "metadata": {},
   "source": [
    "## Data Exploration"
   ]
  },
  {
   "cell_type": "code",
   "execution_count": 4,
   "metadata": {},
   "outputs": [
    {
     "name": "stdout",
     "output_type": "stream",
     "text": [
      "Train shape: (178340, 97)\n",
      "Test shape: (12065, 96)\n",
      "Sample submission shape: (12065, 53)\n",
      "\n",
      "Train columns:\n",
      "['timestamp', 'underlying', 'expiry', 'call_iv_23500', 'call_iv_23600', 'call_iv_23700', 'call_iv_23800', 'call_iv_23900', 'call_iv_24000', 'call_iv_24100', 'call_iv_24200', 'call_iv_24300', 'call_iv_24400', 'call_iv_24500', 'call_iv_24600', 'call_iv_24700', 'call_iv_24800', 'call_iv_24900', 'call_iv_25000', 'call_iv_25100', 'call_iv_25200', 'call_iv_25300', 'call_iv_25400', 'call_iv_25500', 'call_iv_25600', 'call_iv_25700', 'call_iv_25800', 'call_iv_25900', 'call_iv_26000', 'put_iv_22500', 'put_iv_22600', 'put_iv_22700', 'put_iv_22800', 'put_iv_22900', 'put_iv_23000', 'put_iv_23100', 'put_iv_23200', 'put_iv_23300', 'put_iv_23400', 'put_iv_23500', 'put_iv_23600', 'put_iv_23700', 'put_iv_23800', 'put_iv_23900', 'put_iv_24000', 'put_iv_24100', 'put_iv_24200', 'put_iv_24300', 'put_iv_24400', 'put_iv_24500', 'put_iv_24600', 'put_iv_24700', 'put_iv_24800', 'put_iv_24900', 'put_iv_25000', 'X0', 'X1', 'X2', 'X3', 'X4', 'X5', 'X6', 'X7', 'X8', 'X9', 'X10', 'X11', 'X12', 'X13', 'X14', 'X15', 'X16', 'X17', 'X18', 'X19', 'X20', 'X21', 'X22', 'X23', 'X24', 'X25', 'X26', 'X27', 'X28', 'X29', 'X30', 'X31', 'X32', 'X33', 'X34', 'X35', 'X36', 'X37', 'X38', 'X39', 'X40', 'X41']\n",
      "\n",
      "Test columns:\n",
      "['timestamp', 'underlying', 'call_iv_24000', 'call_iv_24100', 'call_iv_24200', 'call_iv_24300', 'call_iv_24400', 'call_iv_24500', 'call_iv_24600', 'call_iv_24700', 'call_iv_24800', 'call_iv_24900', 'call_iv_25000', 'call_iv_25100', 'call_iv_25200', 'call_iv_25300', 'call_iv_25400', 'call_iv_25500', 'call_iv_25600', 'call_iv_25700', 'call_iv_25800', 'call_iv_25900', 'call_iv_26000', 'call_iv_26100', 'call_iv_26200', 'call_iv_26300', 'call_iv_26400', 'call_iv_26500', 'put_iv_23000', 'put_iv_23100', 'put_iv_23200', 'put_iv_23300', 'put_iv_23400', 'put_iv_23500', 'put_iv_23600', 'put_iv_23700', 'put_iv_23800', 'put_iv_23900', 'put_iv_24000', 'put_iv_24100', 'put_iv_24200', 'put_iv_24300', 'put_iv_24400', 'put_iv_24500', 'put_iv_24600', 'put_iv_24700', 'put_iv_24800', 'put_iv_24900', 'put_iv_25000', 'put_iv_25100', 'put_iv_25200', 'put_iv_25300', 'put_iv_25400', 'put_iv_25500', 'X0', 'X1', 'X2', 'X3', 'X4', 'X5', 'X6', 'X7', 'X8', 'X9', 'X10', 'X11', 'X12', 'X13', 'X14', 'X15', 'X16', 'X17', 'X18', 'X19', 'X20', 'X21', 'X22', 'X23', 'X24', 'X25', 'X26', 'X27', 'X28', 'X29', 'X30', 'X31', 'X32', 'X33', 'X34', 'X35', 'X36', 'X37', 'X38', 'X39', 'X40', 'X41']\n"
     ]
    }
   ],
   "source": [
    "print(f\"Train shape: {train.shape}\")\n",
    "print(f\"Test shape: {test.shape}\")\n",
    "print(f\"Sample submission shape: {sample_sub.shape}\")\n",
    "\n",
    "print(\"\\nTrain columns:\")\n",
    "print(train.columns.tolist())\n",
    "\n",
    "print(\"\\nTest columns:\")\n",
    "print(test.columns.tolist())"
   ]
  },
  {
   "cell_type": "markdown",
   "metadata": {},
   "source": [
    "## IV Columns Analysis"
   ]
  },
  {
   "cell_type": "code",
   "execution_count": 8,
   "metadata": {},
   "outputs": [
    {
     "name": "stdout",
     "output_type": "stream",
     "text": [
      "Number of IV columns in sample submission: 52\n",
      "Number of IV columns in both train and test: 42\n",
      "\n",
      "First 10 IV columns:\n",
      "['call_iv_24000', 'call_iv_24100', 'call_iv_24200', 'call_iv_24300', 'call_iv_24400', 'call_iv_24500', 'call_iv_24600', 'call_iv_24700', 'call_iv_24800', 'call_iv_24900']\n"
     ]
    }
   ],
   "source": [
    "# Get IV columns from sample submission (excluding timestamp)\n",
    "sample_iv_cols = [col for col in sample_sub.columns if col != 'timestamp']\n",
    "\n",
    "# Get IV columns that exist in both train and test data\n",
    "iv_columns = [col for col in sample_iv_cols \n",
    "              if col in train.columns and col in test.columns]\n",
    "\n",
    "print(f\"Number of IV columns in sample submission: {len(sample_iv_cols)}\")\n",
    "print(f\"Number of IV columns in both train and test: {len(iv_columns)}\")\n",
    "print(\"\\nFirst 10 IV columns:\")\n",
    "print(iv_columns[:10])"
   ]
  },
  {
   "cell_type": "markdown",
   "metadata": {},
   "source": [
    "## Strike Price Analysis"
   ]
  },
  {
   "cell_type": "code",
   "execution_count": 9,
   "metadata": {},
   "outputs": [
    {
     "name": "stdout",
     "output_type": "stream",
     "text": [
      "Number of unique strikes: 31\n",
      "Sample strike dictionary entries:\n",
      "{'24000': {'call': 'call_iv_24000', 'put': 'put_iv_24000'}, '24100': {'call': 'call_iv_24100', 'put': 'put_iv_24100'}, '24200': {'call': 'call_iv_24200', 'put': 'put_iv_24200'}}\n"
     ]
    }
   ],
   "source": [
    "# Create strike dictionary from TEST columns\n",
    "strike_dict = {}\n",
    "for col in iv_columns:\n",
    "    strike = col.split('_')[-1]\n",
    "    if strike not in strike_dict:\n",
    "        strike_dict[strike] = {'call': None, 'put': None}\n",
    "    \n",
    "    if col.startswith('call_iv_'):\n",
    "        strike_dict[strike]['call'] = col\n",
    "    else:\n",
    "        strike_dict[strike]['put'] = col\n",
    "\n",
    "print(f\"Number of unique strikes: {len(strike_dict)}\")\n",
    "print(\"Sample strike dictionary entries:\")\n",
    "print(dict(list(strike_dict.items())[:3]))"
   ]
  },
  {
   "cell_type": "markdown",
   "metadata": {},
   "source": [
    "## Missing Values Analysis"
   ]
  },
  {
   "cell_type": "code",
   "execution_count": 10,
   "metadata": {},
   "outputs": [
    {
     "data": {
      "image/png": "[encoded data removed]",
      "text/plain": [
       "<Figure size 1200x600 with 1 Axes>"
      ]
     },
     "metadata": {},
     "output_type": "display_data"
    }
   ],
   "source": [
    "# Plot missing values in training data\n",
    "missing_values = train[iv_columns].isna().mean().sort_values(ascending=False)\n",
    "\n",
    "plt.figure(figsize=(12, 6))\n",
    "missing_values.plot(kind='bar')\n",
    "plt.title('Percentage of Missing Values by IV Column')\n",
    "plt.ylabel('Missing Value Percentage')\n",
    "plt.xlabel('IV Columns')\n",
    "plt.xticks([])\n",
    "plt.show()"
   ]
  },
  {
   "cell_type": "markdown",
   "metadata": {},
   "source": [
    "## Global Means Calculation"
   ]
  },
  {
   "cell_type": "code",
   "execution_count": 11,
   "metadata": {},
   "outputs": [
    {
     "name": "stdout",
     "output_type": "stream",
     "text": [
      "Overall mean IV: -12.4045\n",
      "Sample column means:\n",
      "{'call_iv_24000': np.float64(1.5803173304391611), 'call_iv_24100': np.float64(0.1952128715991925), 'call_iv_24200': np.float64(0.16099717636929461), 'call_iv_24300': np.float64(0.14009934083043626), 'call_iv_24400': np.float64(0.14688345825782215)}\n"
     ]
    }
   ],
   "source": [
    "# Pre-calculate global means from training data\n",
    "global_means = {}\n",
    "for col in iv_columns:\n",
    "    if col in train.columns:\n",
    "        global_means[col] = train[col].mean()\n",
    "overall_mean = np.mean(list(global_means.values())) if global_means else 0.2\n",
    "\n",
    "print(f\"Overall mean IV: {overall_mean:.4f}\")\n",
    "print(\"Sample column means:\")\n",
    "print(dict(list(global_means.items())[:5]))"
   ]
  },
  {
   "cell_type": "markdown",
   "metadata": {},
   "source": [
    "## Prediction Function"
   ]
  },
  {
   "cell_type": "code",
   "execution_count": 12,
   "metadata": {},
   "outputs": [],
   "source": [
    "def predict_iv(data):\n",
    "    data = data.copy()\n",
    "    \n",
    "    # Phase 1: Strict put-call parity\n",
    "    for strike, cols in strike_dict.items():\n",
    "        call_col = cols['call']\n",
    "        put_col = cols['put']\n",
    "        \n",
    "        if call_col in data.columns and put_col in data.columns:\n",
    "            # Fill calls using puts where possible\n",
    "            call_mask = data[call_col].isna() & data[put_col].notna()\n",
    "            data.loc[call_mask, call_col] = data.loc[call_mask, put_col]\n",
    "            \n",
    "            # Fill puts using calls where possible\n",
    "            put_mask = data[put_col].isna() & data[call_col].notna()\n",
    "            data.loc[put_mask, put_col] = data.loc[put_mask, call_col]\n",
    "    \n",
    "    # Phase 2: Row-wise mean imputation\n",
    "    for idx, row in data.iterrows():\n",
    "        # Collect all available IV values in this row\n",
    "        available_ivs = []\n",
    "        for col in iv_columns:\n",
    "            if col in row and not pd.isna(row[col]):\n",
    "                available_ivs.append(row[col])\n",
    "        \n",
    "        if available_ivs:\n",
    "            row_mean = np.mean(available_ivs)\n",
    "        else:\n",
    "            row_mean = overall_mean\n",
    "            \n",
    "        # Apply row mean to all missing IVs in this row\n",
    "        for col in iv_columns:\n",
    "            if col in data.columns and pd.isna(data.at[idx, col]):\n",
    "                data.at[idx, col] = row_mean\n",
    "    \n",
    "    return data"
   ]
  },
  {
   "cell_type": "markdown",
   "metadata": {},
   "source": [
    "## Validation Split"
   ]
  },
  {
   "cell_type": "code",
   "execution_count": 13,
   "metadata": {},
   "outputs": [
    {
     "name": "stdout",
     "output_type": "stream",
     "text": [
      "Training split shape: (142672, 97)\n",
      "Validation split shape: (35668, 97)\n"
     ]
    }
   ],
   "source": [
    "# Create validation split\n",
    "train_df, val_df = train_test_split(train, test_size=0.2, random_state=42)\n",
    "\n",
    "print(f\"Training split shape: {train_df.shape}\")\n",
    "print(f\"Validation split shape: {val_df.shape}\")"
   ]
  },
  {
   "cell_type": "markdown",
   "metadata": {},
   "source": [
    "## Validation Prediction"
   ]
  },
  {
   "cell_type": "code",
   "execution_count": 14,
   "metadata": {},
   "outputs": [
    {
     "name": "stdout",
     "output_type": "stream",
     "text": [
      "Validation MSE (masked points only): 0.000000000000\n"
     ]
    }
   ],
   "source": [
    "# Apply to validation set\n",
    "val_pred = predict_iv(val_df)\n",
    "\n",
    "# Calculate MSE only on originally masked validation points\n",
    "mse_vals = []\n",
    "for col in iv_columns:\n",
    "    if col in val_df.columns and col in val_pred.columns:\n",
    "        # Focus only on points that were originally missing\n",
    "        mask = val_df[col].isna() & val_pred[col].notna()\n",
    "        if mask.any():\n",
    "            se = (val_df.loc[mask, col] - val_pred.loc[mask, col]) ** 2\n",
    "            mse_vals.append(se.mean())\n",
    "\n",
    "validation_mse = np.mean(mse_vals) if mse_vals else 0\n",
    "print(f\"Validation MSE (masked points only): {validation_mse:.12f}\")"
   ]
  },
  {
   "cell_type": "markdown",
   "metadata": {},
   "source": [
    "## Test Prediction"
   ]
  },
  {
   "cell_type": "code",
   "execution_count": 15,
   "metadata": {},
   "outputs": [
    {
     "name": "stdout",
     "output_type": "stream",
     "text": [
      "Missing values in test predictions: 0\n"
     ]
    }
   ],
   "source": [
    "# Apply to test set\n",
    "test_pred = predict_iv(test)\n",
    "\n",
    "# Check for missing values\n",
    "missing_in_test = test_pred[iv_columns].isna().sum().sum()\n",
    "print(f\"Missing values in test predictions: {missing_in_test}\")"
   ]
  },
  {
   "cell_type": "markdown",
   "metadata": {},
   "source": [
    "## Prepare Submission"
   ]
  },
  {
   "cell_type": "code",
   "execution_count": 17,
   "metadata": {},
   "outputs": [
    {
     "name": "stdout",
     "output_type": "stream",
     "text": [
      "\n",
      "Final Submission Preview:\n",
      "   timestamp  call_iv_24000  call_iv_24100  call_iv_24200  call_iv_24300  \\\n",
      "0          0       0.280939       0.253561       0.253561       0.253561   \n",
      "1          1       0.270276       0.292600       0.258893       0.292600   \n",
      "2          2       0.223272       0.251731       0.223272       0.223272   \n",
      "3          3       0.241888       0.224810       0.220505       0.210733   \n",
      "4          4       0.235328       0.208829       0.222983       0.214126   \n",
      "\n",
      "   call_iv_24400  call_iv_24500  call_iv_24600  call_iv_24700  call_iv_24800  \\\n",
      "0       0.242149       0.253561       0.232439       0.253561       0.222997   \n",
      "1       0.244875       0.292600       0.233548       0.228209       0.292600   \n",
      "2       0.214869       0.204580       0.194604       0.188052       0.223272   \n",
      "3       0.198602       0.186190       0.224810       0.166394       0.161561   \n",
      "4       0.208829       0.199485       0.192603       0.208829       0.208829   \n",
      "\n",
      "   ...  put_iv_24100  put_iv_24200  put_iv_24300  put_iv_24400  put_iv_24500  \\\n",
      "0  ...      0.253561      0.253561      0.253561      0.242149      0.253561   \n",
      "1  ...      0.292600      0.258893      0.292600      0.244875      0.292600   \n",
      "2  ...      0.250273      0.223272      0.223272      0.214869      0.204580   \n",
      "3  ...      0.224810      0.220505      0.210733      0.198602      0.186190   \n",
      "4  ...      0.208829      0.223716      0.214126      0.208829      0.199485   \n",
      "\n",
      "   put_iv_24600  put_iv_24700  put_iv_24800  put_iv_24900  put_iv_25000  \n",
      "0      0.232334      0.253561      0.222997      0.227301      0.234169  \n",
      "1      0.233548      0.228209      0.292600      0.229917      0.292600  \n",
      "2      0.194612      0.188052      0.223272      0.180668      0.181346  \n",
      "3      0.224810      0.166394      0.161561      0.224810      0.224810  \n",
      "4      0.192603      0.208829      0.208829      0.177920      0.208829  \n",
      "\n",
      "[5 rows x 43 columns]\n",
      "\n",
      "Submission shape: (12065, 43)\n",
      "Validation MSE: 0.000000000000\n"
     ]
    }
   ],
   "source": [
    "# Prepare submission\n",
    "submission = test_pred[['timestamp'] + iv_columns].copy()\n",
    "\n",
    "# Verify no missing values\n",
    "assert submission.isna().sum().sum() == 0, \"Missing values detected\"\n",
    "submission.to_csv('submission.csv', index=False)\n",
    "\n",
    "print(\"\\nFinal Submission Preview:\")\n",
    "print(submission.head())\n",
    "print(f\"\\nSubmission shape: {submission.shape}\")\n",
    "print(f\"Validation MSE: {validation_mse:.12f}\")"
   ]
  },
  {
   "cell_type": "markdown",
   "metadata": {},
   "source": [
    "## Distribution of Predicted IVs"
   ]
  },
  {
   "cell_type": "code",
   "execution_count": 18,
   "metadata": {},
   "outputs": [
    {
     "data": {
      "image/png": "[encoded data removed]",
      "text/plain": [
       "<Figure size 1200x600 with 1 Axes>"
      ]
     },
     "metadata": {},
     "output_type": "display_data"
    }
   ],
   "source": [
    "# Plot distribution of predicted IV values\n",
    "plt.figure(figsize=(12, 6))\n",
    "sns.histplot(submission.iloc[:, 1:].values.flatten(), bins=50, kde=True)\n",
    "plt.title('Distribution of Predicted Implied Volatilities')\n",
    "plt.xlabel('Implied Volatility')\n",
    "plt.ylabel('Frequency')\n",
    "plt.show()"
   ]
  },
  {
   "cell_type": "code",
   "execution_count": null,
   "metadata": {},
   "outputs": [],
   "source": []
  }
 ],
 "metadata": {
  "kernelspec": {
   "display_name": "venv",
   "language": "python",
   "name": "python3"
  },
  "language_info": {
   "codemirror_mode": {
    "name": "ipython",
    "version": 3
   },
   "file_extension": ".py",
   "mimetype": "text/x-python",
   "name": "python",
   "nbconvert_exporter": "python",
   "pygments_lexer": "ipython3",
   "version": "3.10.6"
  }
 },
 "nbformat": 4,
 "nbformat_minor": 4
}
