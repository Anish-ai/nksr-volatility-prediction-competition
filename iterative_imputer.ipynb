{
 "cells": [
  {
   "cell_type": "code",
   "execution_count": 2,
   "id": "214e48ce",
   "metadata": {},
   "outputs": [
    {
     "name": "stdout",
     "output_type": "stream",
     "text": [
      "Loading data...\n",
      "Data loaded successfully.\n",
      "Train shape: (178340, 97), Test shape: (12065, 96)\n"
     ]
    }
   ],
   "source": [
    "import numpy as np\n",
    "import pandas as pd\n",
    "from sklearn.experimental import enable_iterative_imputer\n",
    "from sklearn.impute import IterativeImputer\n",
    "from sklearn.ensemble import RandomForestRegressor\n",
    "\n",
    "# Load data\n",
    "print(\"Loading data...\")\n",
    "train = pd.read_parquet('train_data.parquet')\n",
    "test = pd.read_parquet('test_data.parquet')\n",
    "sample_sub = pd.read_csv('sample_submission.csv')\n",
    "\n",
    "# print\n",
    "print(\"Data loaded successfully.\")\n",
    "print(f\"Train shape: {train.shape}, Test shape: {test.shape}\")\n"
   ]
  },
  {
   "cell_type": "code",
   "execution_count": 3,
   "id": "f2bed6eb",
   "metadata": {},
   "outputs": [
    {
     "name": "stdout",
     "output_type": "stream",
     "text": [
      "Preparing data for imputation...\n",
      "Data head:\n",
      "   timestamp  call_iv_24000  call_iv_24100  call_iv_24200  call_iv_24300  \\\n",
      "0          0       0.280939            NaN            NaN            NaN   \n",
      "1          1       0.270276            NaN       0.258893            NaN   \n",
      "2          2            NaN       0.251731            NaN            NaN   \n",
      "3          3       0.241888            NaN       0.220505            NaN   \n",
      "4          4       0.235328            NaN       0.222983       0.214126   \n",
      "\n",
      "   call_iv_24400  call_iv_24500  call_iv_24600  call_iv_24700  call_iv_24800  \\\n",
      "0       0.242149            NaN       0.232439            NaN       0.222997   \n",
      "1            NaN            NaN       0.233548            NaN            NaN   \n",
      "2       0.214869        0.20458       0.194604            NaN            NaN   \n",
      "3       0.198602        0.18619            NaN            NaN            NaN   \n",
      "4            NaN            NaN       0.192603            NaN            NaN   \n",
      "\n",
      "   ...  put_iv_24600  put_iv_24700  put_iv_24800  put_iv_24900  put_iv_25000  \\\n",
      "0  ...      0.232334           NaN           NaN      0.227301      0.234169   \n",
      "1  ...           NaN      0.228209           NaN           NaN           NaN   \n",
      "2  ...      0.194612      0.188052           NaN           NaN      0.181346   \n",
      "3  ...           NaN      0.166394      0.161561           NaN           NaN   \n",
      "4  ...           NaN           NaN           NaN      0.177920           NaN   \n",
      "\n",
      "   put_iv_25100  put_iv_25200  put_iv_25300  put_iv_25400  put_iv_25500  \n",
      "0           NaN      0.250422           NaN           NaN      0.282229  \n",
      "1      0.249402           NaN           NaN           NaN           NaN  \n",
      "2           NaN      0.190750           NaN           NaN           NaN  \n",
      "3      0.172032           NaN           NaN           NaN      0.206107  \n",
      "4      0.176000           NaN           NaN      0.182314           NaN  \n",
      "\n",
      "[5 rows x 53 columns]\n"
     ]
    }
   ],
   "source": [
    "# Get all IV columns from TEST data\n",
    "iv_columns = [col for col in test.columns if col.startswith(('call_iv_', 'put_iv_'))]\n",
    "\n",
    "# Prepare data for imputation\n",
    "print(\"Preparing data for imputation...\")\n",
    "df = test[['timestamp'] + iv_columns].copy()\n",
    "\n",
    "# print the data head\n",
    "print(\"Data head:\")\n",
    "print(df.head())"
   ]
  },
  {
   "cell_type": "code",
   "execution_count": null,
   "id": "060fb68e",
   "metadata": {},
   "outputs": [
    {
     "name": "stdout",
     "output_type": "stream",
     "text": [
      "--- Performing Imputation ---\n",
      "[IterativeImputer] Completing matrix with shape (12065, 53)\n",
      "[IterativeImputer] Change: 2.11730000000000018, scaled tolerance: 0.0\n",
      "[IterativeImputer] Change: 1.66848635409827906, scaled tolerance: 0.0\n",
      "[IterativeImputer] Change: 1.31480976423377305, scaled tolerance: 0.0\n",
      "[IterativeImputer] Change: 1.03610359885666914, scaled tolerance: 0.0\n",
      "[IterativeImputer] Change: 0.81647603840951666, scaled tolerance: 0.0\n",
      "[IterativeImputer] Change: 0.64340392411774472, scaled tolerance: 0.0\n",
      "[IterativeImputer] Change: 0.50701868774559189, scaled tolerance: 0.0\n",
      "[IterativeImputer] Change: 0.39954364604748327, scaled tolerance: 0.0\n",
      "[IterativeImputer] Change: 0.31485057445657139, scaled tolerance: 0.0\n",
      "[IterativeImputer] Change: 0.24811027585169484, scaled tolerance: 0.0\n",
      "[IterativeImputer] Change: 0.19551721984136050, scaled tolerance: 0.0\n",
      "[IterativeImputer] Change: 0.15407255150264171, scaled tolerance: 0.0\n",
      "[IterativeImputer] Change: 0.12141309673795021, scaled tolerance: 0.0\n",
      "[IterativeImputer] Change: 0.09567661413880139, scaled tolerance: 0.0\n",
      "[IterativeImputer] Change: 0.07539561002074179, scaled tolerance: 0.0\n",
      "[IterativeImputer] Change: 0.05941366196501352, scaled tolerance: 0.0\n",
      "[IterativeImputer] Change: 0.04681947963710055, scaled tolerance: 0.0\n",
      "[IterativeImputer] Change: 0.03689494303144784, scaled tolerance: 0.0\n",
      "[IterativeImputer] Change: 0.02907415528418462, scaled tolerance: 0.0\n",
      "[IterativeImputer] Change: 0.02291117524611364, scaled tolerance: 0.0\n",
      "[IterativeImputer] Change: 0.01805458992797189, scaled tolerance: 0.0\n",
      "[IterativeImputer] Change: 0.01422747693933847, scaled tolerance: 0.0\n",
      "[IterativeImputer] Change: 0.01121161437988673, scaled tolerance: 0.0\n",
      "[IterativeImputer] Change: 0.00883503783131963, scaled tolerance: 0.0\n",
      "[IterativeImputer] Change: 0.00696223494993570, scaled tolerance: 0.0\n",
      "[IterativeImputer] Change: 0.00548641855570482, scaled tolerance: 0.0\n",
      "[IterativeImputer] Change: 0.00432343762955891, scaled tolerance: 0.0\n",
      "[IterativeImputer] Change: 0.00340697902409392, scaled tolerance: 0.0\n",
      "[IterativeImputer] Change: 0.00268478628933065, scaled tolerance: 0.0\n",
      "[IterativeImputer] Change: 0.00211568001106047, scaled tolerance: 0.0\n",
      "[IterativeImputer] Change: 0.00166720976153256, scaled tolerance: 0.0\n",
      "[IterativeImputer] Change: 0.00131380377676122, scaled tolerance: 0.0\n",
      "[IterativeImputer] Change: 0.00103531085509322, scaled tolerance: 0.0\n",
      "[IterativeImputer] Change: 0.00081585133612282, scaled tolerance: 0.0\n",
      "[IterativeImputer] Change: 0.00064291164279686, scaled tolerance: 0.0\n",
      "[IterativeImputer] Change: 0.00050663075752017, scaled tolerance: 0.0\n",
      "[IterativeImputer] Change: 0.00039923794714442, scaled tolerance: 0.0\n",
      "[IterativeImputer] Change: 0.00031460967593099, scaled tolerance: 0.0\n",
      "[IterativeImputer] Change: 0.00024792044167484, scaled tolerance: 0.0\n",
      "[IterativeImputer] Change: 0.00019536762567255, scaled tolerance: 0.0\n"
     ]
    }
   ],
   "source": [
    "# Initialize imputer\n",
    "imputer = IterativeImputer(\n",
    "    estimator=RandomForestRegressor(\n",
    "        n_estimators=350,\n",
    "        max_depth=27,\n",
    "        criterion='squared_error',\n",
    "        max_features='sqrt',\n",
    "        bootstrap=False,\n",
    "        min_samples_leaf=2,\n",
    "        random_state=0,\n",
    "        n_jobs=-1,    \n",
    "    ),\n",
    "    max_iter=40,\n",
    "    tol=0,\n",
    "    verbose=1,\n",
    "    random_state=0,        # Reduced verbosity for clear output\n",
    ")\n",
    "\n",
    "print(\"\\n--- Performing Imputation ---\")\n",
    "imputed_data_array = imputer.fit_transform(df)"
   ]
  },
  {
   "cell_type": "code",
   "execution_count": null,
   "id": "3aacc5e5",
   "metadata": {},
   "outputs": [
    {
     "name": "stdout",
     "output_type": "stream",
     "text": [
      "\n",
      "Preparing submission...\n",
      "Saving submission...\n",
      "\n",
      "Final Submission Preview:\n",
      "   timestamp  call_iv_24000  call_iv_24100  call_iv_24200  call_iv_24300  \\\n",
      "0          0       0.280939       0.266696       0.257372       0.249795   \n",
      "1          1       0.270276       0.269030       0.258893       0.250336   \n",
      "2          2       0.256382       0.251731       0.236886       0.224831   \n",
      "3          3       0.241888       0.230551       0.220505       0.208738   \n",
      "4          4       0.235328       0.229970       0.222983       0.214126   \n",
      "\n",
      "   call_iv_24400  call_iv_24500  call_iv_24600  call_iv_24700  call_iv_24800  \\\n",
      "0       0.242149       0.237983       0.232439       0.225929       0.222997   \n",
      "1       0.244387       0.239116       0.233548       0.227972       0.225092   \n",
      "2       0.214869       0.204580       0.194604       0.188290       0.183239   \n",
      "3       0.198602       0.186190       0.174691       0.166849       0.161831   \n",
      "4       0.206151       0.199282       0.192603       0.186478       0.181903   \n",
      "\n",
      "   ...  put_iv_24600  put_iv_24700  put_iv_24800  put_iv_24900  put_iv_25000  \\\n",
      "0  ...      0.232334      0.226029      0.222267      0.227301      0.234169   \n",
      "1  ...      0.234234      0.228209      0.224953      0.230008      0.239071   \n",
      "2  ...      0.194612      0.188052      0.183000      0.180690      0.181346   \n",
      "3  ...      0.174246      0.166394      0.161561      0.160722      0.164713   \n",
      "4  ...      0.192884      0.186501      0.181863      0.177920      0.175792   \n",
      "\n",
      "   put_iv_25100  put_iv_25200  put_iv_25300  put_iv_25400  put_iv_25500  \n",
      "0      0.244467      0.250422      0.258330      0.273253      0.282229  \n",
      "1      0.249402      0.257855      0.264471      0.271481      0.284806  \n",
      "2      0.185246      0.190750      0.196887      0.204597      0.212148  \n",
      "3      0.172032      0.181210      0.189855      0.197358      0.206107  \n",
      "4      0.176000      0.177527      0.178803      0.182314      0.186384  \n",
      "\n",
      "[5 rows x 53 columns]\n",
      "\n",
      "Submission shape: (12065, 53)\n"
     ]
    }
   ],
   "source": [
    "# Convert back to DataFrame\n",
    "imputed_df = pd.DataFrame(imputed_data_array, columns=df.columns)\n",
    "\n",
    "# Prepare submission\n",
    "print(\"\\nPreparing submission...\")\n",
    "submission = imputed_df.copy()\n",
    "submission.columns = sample_sub.columns\n",
    "\n",
    "# Verify no missing values\n",
    "assert submission.isna().sum().sum() == 0, \"Missing values detected\"\n",
    "\n",
    "# Save submission\n",
    "print(\"Saving submission...\")\n",
    "submission.to_csv('output_main.csv', index=False)\n",
    "\n",
    "print(\"\\nFinal Submission Preview:\")\n",
    "print(submission.head())\n",
    "print(f\"\\nSubmission shape: {submission.shape}\")"
   ]
  },
  {
   "cell_type": "code",
   "execution_count": null,
   "id": "5eac8ece",
   "metadata": {},
   "outputs": [],
   "source": []
  }
 ],
 "metadata": {
  "kernelspec": {
   "display_name": "venv",
   "language": "python",
   "name": "python3"
  },
  "language_info": {
   "codemirror_mode": {
    "name": "ipython",
    "version": 3
   },
   "file_extension": ".py",
   "mimetype": "text/x-python",
   "name": "python",
   "nbconvert_exporter": "python",
   "pygments_lexer": "ipython3",
   "version": "3.10.6"
  }
 },
 "nbformat": 4,
 "nbformat_minor": 5
}
